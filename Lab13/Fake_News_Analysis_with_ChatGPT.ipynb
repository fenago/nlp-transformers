{
  "cells": [
    {
      "cell_type": "markdown",
      "metadata": {
        "id": "b_QjF04i9neT"
      },
      "source": [
        "#Fake News Analysis with ChatGPT\n",
        "Copyright 2023 Denis Rothman, MIT License\n",
        "\n",
        "This notebook shows how to use GPT-3.5(ChatGPT) with the OpenAI API to perform NLP tasks as explained in *Tranformers for NLP, 2nd Edition, Chapter 13, Fake News:*\n",
        "\n",
        "1. Installing openai and your API key<br>\n",
        "2. Sentiment Analysis<br>\n",
        "3. NER<br>\n",
        "4. SRL<br>\n",
        "\n",
        "To get the best out of this notebook:\n",
        "*   read Transformers for NLP, *Chapter 7, The Rise of Suprahuman Transformers with GPT-3 Engines* to understand the architecture of GPT engines. ChatGPT is GPT-3.5 turbo, a GPT model trained a large dataset. A GPT-3.5 turbo engine is a variant of a GPT Model. \n",
        "\n",
        "*  go through the notebooks in the [BONUS directory](https://github.com/fenago/nlp-transformers/tree/main/Bonus#readme) to learn how to implement GPT-3.5 turbo(ChatGPT).\n",
        "\n",
        "*  once you have understood the theory of GPT transformers and explored the BONUS notebooks, try different sentences you find on social media that you would like to analyze in this notebook.\n",
        "\n",
        "\n"
      ]
    },
    {
      "cell_type": "code",
      "execution_count": null,
      "metadata": {
        "id": "lUn5YJeQvy-F",
        "colab": {
          "base_uri": "https://localhost:8080/"
        },
        "outputId": "0e2df7fb-42b3-4028-eb15-169d804899be"
      },
      "outputs": [
        {
          "output_type": "stream",
          "name": "stdout",
          "text": [
            "Looking in indexes: https://pypi.org/simple, https://us-python.pkg.dev/colab-wheels/public/simple/\n",
            "Requirement already satisfied: pip in /usr/local/lib/python3.9/dist-packages (22.0.4)\n",
            "Collecting pip\n",
            "  Downloading pip-23.0.1-py3-none-any.whl (2.1 MB)\n",
            "\u001b[2K     \u001b[90m━━━━━━━━━━━━━━━━━━━━━━━━━━━━━━━━━━━━━━━━\u001b[0m \u001b[32m2.1/2.1 MB\u001b[0m \u001b[31m21.7 MB/s\u001b[0m eta \u001b[36m0:00:00\u001b[0m\n",
            "\u001b[?25hInstalling collected packages: pip\n",
            "  Attempting uninstall: pip\n",
            "    Found existing installation: pip 22.0.4\n",
            "    Uninstalling pip-22.0.4:\n",
            "      Successfully uninstalled pip-22.0.4\n",
            "Successfully installed pip-23.0.1\n"
          ]
        }
      ],
      "source": [
        "!pip install --upgrade pip"
      ]
    },
    {
      "cell_type": "markdown",
      "metadata": {
        "id": "Y-crABM8l3Xi"
      },
      "source": [
        "#1.Installing openai\n"
      ]
    },
    {
      "cell_type": "markdown",
      "metadata": {
        "id": "ygFUriSCvTNb"
      },
      "source": [
        "## installing and importing openai"
      ]
    },
    {
      "cell_type": "code",
      "execution_count": null,
      "metadata": {
        "id": "9G79pIy_Mg5Y",
        "colab": {
          "base_uri": "https://localhost:8080/"
        },
        "outputId": "89521732-a234-4abd-fd93-b2bfbbfbc166"
      },
      "outputs": [
        {
          "output_type": "stream",
          "name": "stdout",
          "text": [
            "Looking in indexes: https://pypi.org/simple, https://us-python.pkg.dev/colab-wheels/public/simple/\n",
            "Collecting openai\n",
            "  Downloading openai-0.27.2-py3-none-any.whl (70 kB)\n",
            "\u001b[2K     \u001b[90m━━━━━━━━━━━━━━━━━━━━━━━━━━━━━━━━━━━━━━━━\u001b[0m \u001b[32m70.1/70.1 kB\u001b[0m \u001b[31m2.6 MB/s\u001b[0m eta \u001b[36m0:00:00\u001b[0m\n",
            "\u001b[?25hCollecting aiohttp\n",
            "  Downloading aiohttp-3.8.4-cp39-cp39-manylinux_2_17_x86_64.manylinux2014_x86_64.whl (1.0 MB)\n",
            "\u001b[2K     \u001b[90m━━━━━━━━━━━━━━━━━━━━━━━━━━━━━━━━━━━━━━━━\u001b[0m \u001b[32m1.0/1.0 MB\u001b[0m \u001b[31m13.1 MB/s\u001b[0m eta \u001b[36m0:00:00\u001b[0m\n",
            "\u001b[?25hRequirement already satisfied: tqdm in /usr/local/lib/python3.9/dist-packages (from openai) (4.65.0)\n",
            "Requirement already satisfied: requests>=2.20 in /usr/local/lib/python3.9/dist-packages (from openai) (2.25.1)\n",
            "Requirement already satisfied: idna<3,>=2.5 in /usr/local/lib/python3.9/dist-packages (from requests>=2.20->openai) (2.10)\n",
            "Requirement already satisfied: urllib3<1.27,>=1.21.1 in /usr/local/lib/python3.9/dist-packages (from requests>=2.20->openai) (1.26.14)\n",
            "Requirement already satisfied: certifi>=2017.4.17 in /usr/local/lib/python3.9/dist-packages (from requests>=2.20->openai) (2022.12.7)\n",
            "Requirement already satisfied: chardet<5,>=3.0.2 in /usr/local/lib/python3.9/dist-packages (from requests>=2.20->openai) (4.0.0)\n",
            "Collecting async-timeout<5.0,>=4.0.0a3\n",
            "  Downloading async_timeout-4.0.2-py3-none-any.whl (5.8 kB)\n",
            "Requirement already satisfied: attrs>=17.3.0 in /usr/local/lib/python3.9/dist-packages (from aiohttp->openai) (22.2.0)\n",
            "Collecting aiosignal>=1.1.2\n",
            "  Downloading aiosignal-1.3.1-py3-none-any.whl (7.6 kB)\n",
            "Collecting multidict<7.0,>=4.5\n",
            "  Downloading multidict-6.0.4-cp39-cp39-manylinux_2_17_x86_64.manylinux2014_x86_64.whl (114 kB)\n",
            "\u001b[2K     \u001b[90m━━━━━━━━━━━━━━━━━━━━━━━━━━━━━━━━━━━━━━━\u001b[0m \u001b[32m114.2/114.2 kB\u001b[0m \u001b[31m1.5 MB/s\u001b[0m eta \u001b[36m0:00:00\u001b[0m\n",
            "\u001b[?25hCollecting charset-normalizer<4.0,>=2.0\n",
            "  Downloading charset_normalizer-3.1.0-cp39-cp39-manylinux_2_17_x86_64.manylinux2014_x86_64.whl (199 kB)\n",
            "\u001b[2K     \u001b[90m━━━━━━━━━━━━━━━━━━━━━━━━━━━━━━━━━━━━━━━\u001b[0m \u001b[32m199.2/199.2 kB\u001b[0m \u001b[31m7.7 MB/s\u001b[0m eta \u001b[36m0:00:00\u001b[0m\n",
            "\u001b[?25hCollecting frozenlist>=1.1.1\n",
            "  Downloading frozenlist-1.3.3-cp39-cp39-manylinux_2_5_x86_64.manylinux1_x86_64.manylinux_2_17_x86_64.manylinux2014_x86_64.whl (158 kB)\n",
            "\u001b[2K     \u001b[90m━━━━━━━━━━━━━━━━━━━━━━━━━━━━━━━━━━━━━━━\u001b[0m \u001b[32m158.8/158.8 kB\u001b[0m \u001b[31m3.8 MB/s\u001b[0m eta \u001b[36m0:00:00\u001b[0m\n",
            "\u001b[?25hCollecting yarl<2.0,>=1.0\n",
            "  Downloading yarl-1.8.2-cp39-cp39-manylinux_2_17_x86_64.manylinux2014_x86_64.whl (264 kB)\n",
            "\u001b[2K     \u001b[90m━━━━━━━━━━━━━━━━━━━━━━━━━━━━━━━━━━━━━━━\u001b[0m \u001b[32m264.6/264.6 kB\u001b[0m \u001b[31m2.9 MB/s\u001b[0m eta \u001b[36m0:00:00\u001b[0m\n",
            "\u001b[?25hInstalling collected packages: multidict, frozenlist, charset-normalizer, async-timeout, yarl, aiosignal, aiohttp, openai\n",
            "Successfully installed aiohttp-3.8.4 aiosignal-1.3.1 async-timeout-4.0.2 charset-normalizer-3.1.0 frozenlist-1.3.3 multidict-6.0.4 openai-0.27.2 yarl-1.8.2\n",
            "\u001b[33mWARNING: Running pip as the 'root' user can result in broken permissions and conflicting behaviour with the system package manager. It is recommended to use a virtual environment instead: https://pip.pypa.io/warnings/venv\u001b[0m\u001b[33m\n",
            "\u001b[0m"
          ]
        }
      ],
      "source": [
        "#Importing openai\n",
        "try:\n",
        "  import openai\n",
        "except:\n",
        "  !pip install openai\n",
        "  import openai"
      ]
    },
    {
      "cell_type": "markdown",
      "metadata": {
        "id": "R7YHxHaLmAEi"
      },
      "source": [
        "##API Key"
      ]
    },
    {
      "cell_type": "code",
      "execution_count": null,
      "metadata": {
        "id": "Eb6gFplQqU5v",
        "colab": {
          "base_uri": "https://localhost:8080/"
        },
        "outputId": "a90609cd-f647-4351-ae5d-4e8e861d22a4"
      },
      "outputs": [
        {
          "output_type": "stream",
          "name": "stdout",
          "text": [
            "Mounted at /content/drive\n"
          ]
        }
      ],
      "source": [
        "#2.API Key\n",
        "#Store you key in a file and read it(you can type it directly in the notebook but it will be visible for somebody next to you)\n",
        "from google.colab import drive\n",
        "drive.mount('/content/drive')\n",
        "f = open(\"drive/MyDrive/files/api_key.txt\", \"r\")\n",
        "API_KEY=f.readline()\n",
        "f.close()\n",
        "\n",
        "#The OpenAI Key\n",
        "import os\n",
        "os.environ['OPENAI_API_KEY'] =API_KEY\n",
        "openai.api_key = os.getenv(\"OPENAI_API_KEY\")\n"
      ]
    },
    {
      "cell_type": "markdown",
      "metadata": {
        "id": "U03EQHLtmZLl"
      },
      "source": [
        "#2.ChatGPT(gpt-3.5 turbo) dialog function"
      ]
    },
    {
      "cell_type": "markdown",
      "source": [
        "preparing the NLP message"
      ],
      "metadata": {
        "id": "1moBmYTVp-ih"
      }
    },
    {
      "cell_type": "code",
      "execution_count": null,
      "metadata": {
        "id": "wl_ih8tPqebL"
      },
      "outputs": [],
      "source": [
        " def dialog(uinput):\n",
        "   #preparing the prompt for OpenAI \n",
        "   role=\"user\"\n",
        "   \n",
        "   #prompt=\"Where is Tahiti located?\" #maintenance or if you do not want to use a microphone\n",
        "   line = {\"role\": role, \"content\": uinput}\n",
        "\n",
        "   #creating the mesage\n",
        "   assert1={\"role\": \"system\", \"content\": \"You are a Natural Language Processing Assistant.\"}\n",
        "   assert2={\"role\": \"assistant\", \"content\": \"You are helping viewers analyze social medial better.\"}\n",
        "   assert3=line\n",
        "   iprompt = []\n",
        "   iprompt.append(assert1)\n",
        "   iprompt.append(assert2)\n",
        "   iprompt.append(assert3)\n",
        "\n",
        "   #sending the message to ChatGPT\n",
        "   response=openai.ChatCompletion.create(model=\"gpt-3.5-turbo\",messages=iprompt) #ChatGPT dialog\n",
        "   text=response[\"choices\"][0][\"message\"][\"content\"] #response in JSON\n",
        "\n",
        "   return text"
      ]
    },
    {
      "cell_type": "markdown",
      "source": [
        "# 3.Sentiment Analysis, emotional reactions to social media"
      ],
      "metadata": {
        "id": "o-qY6V3mqMEb"
      }
    },
    {
      "cell_type": "markdown",
      "source": [
        "##Climate Change"
      ],
      "metadata": {
        "id": "sKxMhYaaufvx"
      }
    },
    {
      "cell_type": "code",
      "execution_count": null,
      "metadata": {
        "colab": {
          "base_uri": "https://localhost:8080/"
        },
        "id": "RCZg84cKkT__",
        "outputId": "3bd5bdee-5484-4bc2-a896-4dc2f39b0bcd"
      },
      "outputs": [
        {
          "output_type": "stream",
          "name": "stdout",
          "text": [
            "Instruction Explain the emotions felt by a person in the following sentence:Climate change is bogus. It’s a plot by the liberals to take the economy down.\n",
            "ChatGPT Sentiment Analysis: Based on the given sentence, the person seems to be skeptical and dismissive of the concept of climate change. The use of the word \"bogus\" indicates that the person believes that climate change is false or baseless. The statement \"It's a plot by liberals to take the economy down\" suggests that the person may be politically motivated in their beliefs and sees climate change as a conspiracy theory invented by those on the left. Overall, the emotions expressed in this sentence could be interpreted as dismissive, skeptical, and politically charged.\n"
          ]
        }
      ],
      "source": [
        "#Climite change\n",
        "uinput=\"Explain the emotions felt by a person in the following sentence:Climate change is bogus. It’s a plot by the liberals to take the economy down.\"\n",
        "text=dialog(uinput) #preparing the messages for ChatGPT\n",
        "print(\"Viewer request\",uinput)\n",
        "print(\"ChatGPT Sentiment Analysis:\",text)"
      ]
    },
    {
      "cell_type": "code",
      "source": [
        "#Climite change\n",
        "uinput=\"Explain the emotions felt by a person in the following sentence:I am a Republican and think that climate change consciousness is a great thing!\"\n",
        "text=dialog(uinput) #preparing the messages for ChatGPT\n",
        "print(\"Viewer request\",uinput)\n",
        "print(\"ChatGPT Sentiment Analysis:\",text)"
      ],
      "metadata": {
        "colab": {
          "base_uri": "https://localhost:8080/"
        },
        "id": "vM6fWKbit8qV",
        "outputId": "fa4aec47-5249-4d67-c54c-d9cca6ac46be"
      },
      "execution_count": null,
      "outputs": [
        {
          "output_type": "stream",
          "name": "stdout",
          "text": [
            "Viewer request Explain the emotions felt by a person in the following sentence:I am a Republican and think that climate change consciousness is a great thing!\n",
            "ChatGPT Sentiment Analysis: Based on the sentence, the person seems to feel a sense of positivity or agreement towards the idea of climate change consciousness despite identifying as a Republican, which may suggest an open-mindedness or willingness to diverge from the traditional views of their political party. It's important to note that emotions can be complex and multifaceted, and additional context or information would be needed to fully understand the person's emotional state.\n"
          ]
        }
      ]
    },
    {
      "cell_type": "markdown",
      "source": [
        "## Gun Control"
      ],
      "metadata": {
        "id": "eZZiL6sVuiun"
      }
    },
    {
      "cell_type": "code",
      "source": [
        "#Gun Control\n",
        "uinput=\"Explain the emotions felt by a person in the following sentence:I have had rifles and guns for years and never had a problem. I raised my kids right so they have guns too and never hurt anything except rabbits!\"\n",
        "text=dialog(uinput) #preparing the messages for ChatGPT\n",
        "print(\"Viewer request\",uinput)\n",
        "print(\"ChatGPT Sentiment Analysis:\",text)"
      ],
      "metadata": {
        "colab": {
          "base_uri": "https://localhost:8080/"
        },
        "id": "1IdhQBHvumEs",
        "outputId": "4c1a2e94-3e56-43fb-ebb7-e13a173712d1"
      },
      "execution_count": null,
      "outputs": [
        {
          "output_type": "stream",
          "name": "stdout",
          "text": [
            "Viewer request Explain the emotions felt by a person in the following sentence:I have had rifles and guns for years and never had a problem. I raised my kids right so they have guns too and never hurt anything except rabbits!\n",
            "ChatGPT Sentiment Analysis: The emotion conveyed in this statement may vary depending on the person reading or hearing it, but generally it can be seen as a mix of pride and defiance. The speaker appears to be proud of their experience with firearms and their ability to raise their children to handle them responsibly. Their statement regarding never having hurt anything except rabbits suggests a belief in the importance of responsible gun ownership and hunting. However, the tone and emotion of the statement could also be characterized by some as dismissive or even callous towards concerns about gun violence or irresponsible gun ownership.\n"
          ]
        }
      ]
    },
    {
      "cell_type": "code",
      "source": [
        "#Gun Control\n",
        "uinput=\"Explain the emotions felt by a person in the following sentence:I have heard gunshots all my life in my neighborhood, have lost many friends, and am afraid to go out at night.\"\n",
        "text=dialog(uinput) #preparing the messages for ChatGPT\n",
        "print(\"Viewer request\",uinput)\n",
        "print(\"ChatGPT Sentiment Analysis:\",text)"
      ],
      "metadata": {
        "colab": {
          "base_uri": "https://localhost:8080/"
        },
        "id": "ZxG1H13VvBQW",
        "outputId": "5ae91009-1c4e-4af5-90a4-7e8d9f004246"
      },
      "execution_count": null,
      "outputs": [
        {
          "output_type": "stream",
          "name": "stdout",
          "text": [
            "Viewer request Explain the emotions felt by a person in the following sentence:I have heard gunshots all my life in my neighborhood, have lost many friends, and am afraid to go out at night.\n",
            "ChatGPT Sentiment Analysis: Based on the sentence, the emotions felt by the person are fear, sadness, and hopelessness. They have heard gunshots all their life, which might have caused them to be traumatized over time. They also lost many friends, indicating that these gunshots or other incidents might have resulted in fatal outcomes or violent crimes. All of these experiences have led them to feel afraid to go out at night, which is a sign of anxiety and uneasiness. Overall, the sentence conveys a combination of negative emotions, including fear, sadness, and helplessness or vulnerability.\n"
          ]
        }
      ]
    },
    {
      "cell_type": "markdown",
      "source": [
        "# 4.Named Entity Recognition(NER)"
      ],
      "metadata": {
        "id": "bPgasm5AvZi2"
      }
    },
    {
      "cell_type": "code",
      "source": [
        "uinput=\"Provide the list of labels for Named Entity Recognition\"\n",
        "text=dialog(uinput) #preparing the messages for ChatGPT\n",
        "print(\"Viewer request\",uinput)\n",
        "print(\"ChatGPT Sentiment Analysis:\",text)"
      ],
      "metadata": {
        "colab": {
          "base_uri": "https://localhost:8080/"
        },
        "id": "LjGTL18pwzE6",
        "outputId": "2b8a712b-2d95-41c5-9bcd-15c326437cdd"
      },
      "execution_count": null,
      "outputs": [
        {
          "output_type": "stream",
          "name": "stdout",
          "text": [
            "Viewer request Provide the list of labels for Named Entity Recognition\n",
            "ChatGPT Sentiment Analysis: The most common labels for Named Entity Recognition (NER) are:\n",
            "\n",
            "- PERSON: Refers to a specific person, including their name or pronouns.\n",
            "- ORGANIZATION: Refers to groups, companies, institutions or organizations.\n",
            "- LOCATION: Refers to places such as countries, cities, continents, airports, etc.\n",
            "- DATE: Refers to any specific date such as a month, year, day, season, etc.\n",
            "- TIME: Refers to any specific time of day such as morning, afternoon, evening, night, 5pm, etc.\n",
            "- PERCENT: Refers to any percentage including in numbers or words such as 50%, half, etc.\n",
            "- MONEY: Refers to any monetary value including in numbers or words such as $20, twenty dollars, etc.\n",
            "- QUANTITY: Refers to any numerical quantity such as weight, distance, volume, age, etc.\n",
            "- ORDINAL: Refers to the order of things such as first, second, etc.\n",
            "- CARDINAL: Refers to any numerical value including in numbers or words such as 5, five, etc.\n"
          ]
        }
      ]
    },
    {
      "cell_type": "code",
      "source": [
        "#Gun Control\n",
        "uinput=\"Perform Named Entity Recognition on the following sentence:I have had rifles and guns for years and never had a problem. I raised my kids right so they have guns too and never hurt anything except rabbits.\"\n",
        "text=dialog(uinput) #preparing the messages for ChatGPT\n",
        "print(\"Viewer request\",uinput)\n",
        "print(\"ChatGPT Sentiment Analysis:\",text)"
      ],
      "metadata": {
        "colab": {
          "base_uri": "https://localhost:8080/"
        },
        "id": "v81bXpaWvYzh",
        "outputId": "b0989390-2acd-4146-f36b-74d542fee807"
      },
      "execution_count": null,
      "outputs": [
        {
          "output_type": "stream",
          "name": "stdout",
          "text": [
            "Viewer request Perform Named Entity Recognition on the following sentence:I have had rifles and guns for years and never had a problem. I raised my kids right so they have guns too and never hurt anything except rabbits.\n",
            "ChatGPT Sentiment Analysis: The named entities recognized in the given sentence are:\n",
            "\n",
            "- WEAPON: rifles, guns\n",
            "- PERSON: my kids\n",
            "- ANIMAL: rabbits\n"
          ]
        }
      ]
    },
    {
      "cell_type": "code",
      "source": [
        "#Gun Control\n",
        "uinput=\"Perform Named Entity Recognition on the following sentence:I have heard gunshots all my life in my neighborhood, have lost many friends, and am afraid to go out at night.\"\n",
        "text=dialog(uinput) #preparing the messages for ChatGPT\n",
        "print(\"Viewer request\",uinput)\n",
        "print(\"ChatGPT Sentiment Analysis:\",text)"
      ],
      "metadata": {
        "colab": {
          "base_uri": "https://localhost:8080/"
        },
        "id": "pqU0U7ekvsal",
        "outputId": "bfe8c218-538f-479f-f85a-628f514966ab"
      },
      "execution_count": null,
      "outputs": [
        {
          "output_type": "stream",
          "name": "stdout",
          "text": [
            "Viewer request Perform Named Entity Recognition on the following sentence:I have heard gunshots all my life in my neighborhood, have lost many friends, and am afraid to go out at night.\n",
            "ChatGPT Sentiment Analysis: \n",
            "\n",
            "Here is the named entity recognition result for the given sentence:\n",
            "\n",
            "| Word       | Named Entity |\n",
            "|------------|--------------|\n",
            "| I          | -            |\n",
            "| have       | -            |\n",
            "| heard      | -            |\n",
            "| gunshots   | WEAPON       |\n",
            "| all        | -            |\n",
            "| my         | -            |\n",
            "| life       | -            |\n",
            "| in         | -            |\n",
            "| my         | -            |\n",
            "| neighborhood | LOCATION   |\n",
            "| ,          | -            |\n",
            "| have       | -            |\n",
            "| lost       | -            |\n",
            "| many       | -            |\n",
            "| friends    | PERSON       |\n",
            "| ,          | -            |\n",
            "| and        | -            |\n",
            "| am         | -            |\n",
            "| afraid     | -            |\n",
            "| to         | -            |\n",
            "| go         | -            |\n",
            "| out        | -            |\n",
            "| at         | -            |\n",
            "| night      | TIME         |\n",
            "| .          | -            |\n",
            "\n",
            "As you can see, the named entity recognition model has identified two entities in the sentence: WEAPON and LOCATION. In this case, \"gunshots\" is identified as a WEAPON entity, and \"neighborhood\" is identified as a LOCATION entity.\n"
          ]
        }
      ]
    },
    {
      "cell_type": "markdown",
      "source": [
        "# 5.Semantic Role Labeling(SRL)"
      ],
      "metadata": {
        "id": "wk9lev33wDdA"
      }
    },
    {
      "cell_type": "code",
      "source": [
        "uinput=\"Provide the list of labels for Semantic Role Labeling\"\n",
        "text=dialog(uinput) #preparing the messages for ChatGPT\n",
        "print(\"Viewer request\",uinput)\n",
        "print(\"ChatGPT Sentiment Analysis:\",text)"
      ],
      "metadata": {
        "colab": {
          "base_uri": "https://localhost:8080/"
        },
        "id": "D82yoEG1wnXk",
        "outputId": "3b2c1f9c-f3a2-4213-e92a-56485a5c0e1e"
      },
      "execution_count": null,
      "outputs": [
        {
          "output_type": "stream",
          "name": "stdout",
          "text": [
            "Viewer request Provide the list of labels for Semantic Role Labeling\n",
            "ChatGPT Sentiment Analysis: Semantic Role Labeling provides the following common set of labels:\n",
            "\n",
            "- Agent: the initiator of an event\n",
            "- Patient/Theme: the entity undergoing an action or being in a certain state\n",
            "- Experiencer: the entity perceiving, feeling, or experiencing something\n",
            "- Instrument: the means or tool used to accomplish an action\n",
            "- Location: the place where an event takes place or where an entity exists\n",
            "- Time: the time at which an event takes place or when an entity exists\n",
            "- Source: the starting point of a motion or action\n",
            "- Goal: the endpoint of a motion or action\n",
            "\n",
            "Note that there may be some variation in the label set used depending on the specific application/domain.\n"
          ]
        }
      ]
    },
    {
      "cell_type": "code",
      "source": [
        "#Gun Control\n",
        "uinput=\"Perform Semantic Role Labeling on the following sentence:I have had rifles and guns for years and never had a problem. I raised my kids right so they have guns too and never hurt anything except rabbits.\"\n",
        "text=dialog(uinput) #preparing the messages for ChatGPT\n",
        "print(\"Viewer request\",uinput)\n",
        "print(\"ChatGPT Sentiment Analysis:\",text)"
      ],
      "metadata": {
        "colab": {
          "base_uri": "https://localhost:8080/"
        },
        "id": "nD56SRycwLe-",
        "outputId": "740091fe-0c62-4c6a-cd7c-5da301682bd2"
      },
      "execution_count": null,
      "outputs": [
        {
          "output_type": "stream",
          "name": "stdout",
          "text": [
            "Viewer request Perform Semantic Role Labeling on the following sentence:I have had rifles and guns for years and never had a problem. I raised my kids right so they have guns too and never hurt anything except rabbits.\n",
            "ChatGPT Sentiment Analysis: In the given sentence, the following is the output of Semantic Role Labeling:\n",
            "\n",
            "| Word | Predicate | Semantic Role |\n",
            "|------|-----------|--------------|\n",
            "|I|have|Arg0|\n",
            "|had|have|V|\n",
            "|rifles|had|Arg1|\n",
            "|and|had|CoordArg1|\n",
            "|guns|had|CoordArg1|\n",
            "|for years|had|ArgM-TMP|\n",
            "|never|had|Arg2|\n",
            "|had|raised|V|\n",
            "|my kids|raised|Arg0|\n",
            "|right|raised|ArgM-ADV|\n",
            "|so|have|ArgM-CAU|\n",
            "|they|have|Arg0|\n",
            "|have|have|V|\n",
            "|guns|have|Arg1|\n",
            "|too|guns|ArgM-NEG|\n",
            "|and|hurt|CoordArg1|\n",
            "|never|hurt|ArgM-NEG|\n",
            "|hurt|raised|V|\n",
            "|anything|hurt|Arg1|\n",
            "|except|rabbits|ArgM-ADJ|\n"
          ]
        }
      ]
    },
    {
      "cell_type": "code",
      "source": [
        "#Gun Control\n",
        "uinput=\"Perform Semantic Role Labeling on the following sentence:I have heard gunshots all my life in my neighborhood, have lost many friends, and am afraid to go out at night.\"\n",
        "text=dialog(uinput) #preparing the messages for ChatGPT\n",
        "print(\"Viewer request\",uinput)\n",
        "print(\"ChatGPT Sentiment Analysis:\",text)"
      ],
      "metadata": {
        "colab": {
          "base_uri": "https://localhost:8080/"
        },
        "id": "FM3Bn0cNwYae",
        "outputId": "6ee31109-d68e-49cb-9e34-38fda3953efd"
      },
      "execution_count": null,
      "outputs": [
        {
          "output_type": "stream",
          "name": "stdout",
          "text": [
            "Viewer request Perform Semantic Role Labeling on the following sentence:I have heard gunshots all my life in my neighborhood, have lost many friends, and am afraid to go out at night.\n",
            "ChatGPT Sentiment Analysis: Here's the Semantic Role Labeling (SRL) output for the given sentence:\n",
            "\n",
            "| Word | Predicate | Argument    | Label       |\n",
            "|------|-----------|-------------|-------------|\n",
            "| I    | heard     |               |  A0 (Agent)  |\n",
            "| have | heard     |               |  O (None)    |\n",
            "| heard| -         | gunshots    |  V (Verb)    |\n",
            "| gunshots| heard   |             |  A1 (Theme)  |\n",
            "| all my life| heard|             |  AM-TMP (Time)|\n",
            "| in     | neighborhood|         |  AM-LOC (Location)|\n",
            "| my    | neighborhood|         |  AM-MNR (Manner)|\n",
            "| have | lost      |             |  O (None)    |\n",
            "| lost  | -         | many friends|  V (Verb)    |\n",
            "| many friends| lost|            |  A1 (Theme)  |\n",
            "| and   | -         |             |  O (None)    |\n",
            "| am    | afraid    |             |  O (None)    |\n",
            "| afraid| -         |             |  V (Verb)    |\n",
            "| to go out| afraid|             |  A1 (Theme)  |\n",
            "| at night| go out |             |  AM-TMP (Time)|\n",
            "\n",
            "In this output, the predicate denotes the main verb or action of the sentence, and the arguments describe the roles played by the entities in the predicate's action. For example, in the first clause, \"I\" is the Agent (A0) that performed the action of hearing \"gunshots\" (A1). The second clause contains a predicate \"lost\" with \"many friends\" as the Theme (A1). Finally, the third clause contains a predicate \"afraid\" with \"to go out\" as the Theme (A1) and \"at night\" as the temporal modifier (AM-TMP).\n"
          ]
        }
      ]
    }
  ],
  "metadata": {
    "colab": {
      "provenance": []
    },
    "kernelspec": {
      "display_name": "Python 3",
      "name": "python3"
    },
    "language_info": {
      "name": "python"
    }
  },
  "nbformat": 4,
  "nbformat_minor": 0
}