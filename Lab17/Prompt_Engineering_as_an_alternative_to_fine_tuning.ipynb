{
  "nbformat": 4,
  "nbformat_minor": 0,
  "metadata": {
    "colab": {
      "provenance": [],
      "toc_visible": true
    },
    "kernelspec": {
      "name": "python3",
      "display_name": "Python 3"
    },
    "language_info": {
      "name": "python"
    }
  },
  "cells": [
    {
      "cell_type": "markdown",
      "source": [
        "#Prompt Engineering as an alternative to fine-tuning\n",
        "Copyright 2023 Denis Rothman, MIT License\n",
        "\n",
        "This notebook was designed with ChatGPT as a [Cobot(collaborative bot)](https://github.com/fenago/nlp-transformers/blob/main/Bonus/ChatGPT_as_a_Cobot_ChatGPT_versus_davinci_instruct.ipynb) on top of an [implementation of ChatGPT](https://github.com/fenago/nlp-transformers/blob/main/Bonus/Jump_Starting_ChatGPT_with_the_OpenAI_API.ipynb)<br>\n",
        "\n",
        "\n",
        "**Fine-tuning or prompt engineering?**\n",
        "\n",
        "Using large language models(LLM) [provides better power if required.](https://github.com/fenago/nlp-transformers/blob/main/Bonus/Q%26A_DR.ipynb)\n",
        "\n",
        "However, it is not always possible or necessary to fine-tune a model to obtain exactly what we need.\n",
        "\n",
        "Let's see what ChatGPT has to say:\n",
        "\n",
        "a)**ChatGPT on prompt engineering:**<br>\n",
        "\"Prompt engineering can be a useful technique for improving the performance of language models like GPT-3 on specific tasks or domains without fine-tuning. **By carefully crafting prompts, you can guide the model to produce the desired output.**\"\n",
        "\n",
        "b)**ChatGPT on fine-tuning when it's possible:**<br>\n",
        "\"However, prompt engineering is not a replacement for fine-tuning in all cases. Fine-tuning is still the best way to achieve high accuracy on a specific task **when you have enough task-specific labeled data.** Fine-tuning allows the model to learn from the task-specific data and adjust its weights accordingly, leading to better performance on that task.\"\n",
        "\n",
        "For fine-tuning OpenAI GPT-3 models or subsequent models, [read Chapter 7 of Transformers for NLP, 2nd Edition](https://www.amazon.com/Transformers-Natural-Language-Processing-architectures/dp/1803247339/ref=tmm_pap_swatch_0?_encoding=UTF8&qid=&sr=) and [run the fine-tuning notebook of the chapter.](https://github.com/fenago/nlp-transformers/blob/main/Lab07/Fine_tuning_GPT_3.ipynb)\n",
        "\n",
        "c)**ChatGPT on prompt engineering when fine-tuning is challenging**:<br>\n",
        "\"In contrast, **prompt engineering is useful when you don't have enough labeled data or when the task is not well-defined. For example, if you want to generate creative writing prompts or answer questions about a broad topic like history**, prompt engineering can help guide the model to generate relevant and informative responses.\"\n",
        "\n",
        "Working on this information, this notebook will focus on prompt engineering when:\n",
        "\n",
        "*   you don't have enough labeled data\n",
        "*   when the task is not well-defined as in open conversations, for example\n",
        "*   when the cost of fine-tuning exceeds the benefit of your project\n",
        "*   when the topic is broad\n"
      ],
      "metadata": {
        "id": "b_QjF04i9neT"
      }
    },
    {
      "cell_type": "markdown",
      "source": [
        "#Prompt Engineering \n",
        "\n",
        "Advanced prompt engineering is not limited to entering a good prompt or question. This notebook will show you how to implement a transformer efficiently with advanced prompt engineering:<br>\n",
        "\n",
        "1.Building the Knowledge base(KB)<br>\n",
        "2.Parsing the user's prompt and accessing the KB<br>\n",
        "3.Generating ChatGPT content with a dialog function<br>\n",
        "4.Moderation, quality control<br>\n",
        "5.Summary and next steps<br>"
      ],
      "metadata": {
        "id": "B7kp2-E0ZmCH"
      }
    },
    {
      "cell_type": "markdown",
      "source": [
        "### Installing OpenAI"
      ],
      "metadata": {
        "id": "SBAh8BHRe3FR"
      }
    },
    {
      "cell_type": "code",
      "execution_count": 1,
      "metadata": {
        "id": "9G79pIy_Mg5Y",
        "colab": {
          "base_uri": "https://localhost:8080/"
        },
        "outputId": "67ea0428-1133-48ad-d008-729eb913f0c5"
      },
      "outputs": [
        {
          "output_type": "stream",
          "name": "stdout",
          "text": [
            "Looking in indexes: https://pypi.org/simple, https://us-python.pkg.dev/colab-wheels/public/simple/\n",
            "Collecting openai\n",
            "  Downloading openai-0.27.2-py3-none-any.whl (70 kB)\n",
            "\u001b[2K     \u001b[90m━━━━━━━━━━━━━━━━━━━━━━━━━━━━━━━━━━━━━━━━\u001b[0m \u001b[32m70.1/70.1 KB\u001b[0m \u001b[31m2.2 MB/s\u001b[0m eta \u001b[36m0:00:00\u001b[0m\n",
            "\u001b[?25hRequirement already satisfied: tqdm in /usr/local/lib/python3.9/dist-packages (from openai) (4.65.0)\n",
            "Requirement already satisfied: requests>=2.20 in /usr/local/lib/python3.9/dist-packages (from openai) (2.27.1)\n",
            "Collecting aiohttp\n",
            "  Downloading aiohttp-3.8.4-cp39-cp39-manylinux_2_17_x86_64.manylinux2014_x86_64.whl (1.0 MB)\n",
            "\u001b[2K     \u001b[90m━━━━━━━━━━━━━━━━━━━━━━━━━━━━━━━━━━━━━━━━\u001b[0m \u001b[32m1.0/1.0 MB\u001b[0m \u001b[31m11.6 MB/s\u001b[0m eta \u001b[36m0:00:00\u001b[0m\n",
            "\u001b[?25hRequirement already satisfied: certifi>=2017.4.17 in /usr/local/lib/python3.9/dist-packages (from requests>=2.20->openai) (2022.12.7)\n",
            "Requirement already satisfied: idna<4,>=2.5 in /usr/local/lib/python3.9/dist-packages (from requests>=2.20->openai) (3.4)\n",
            "Requirement already satisfied: charset-normalizer~=2.0.0 in /usr/local/lib/python3.9/dist-packages (from requests>=2.20->openai) (2.0.12)\n",
            "Requirement already satisfied: urllib3<1.27,>=1.21.1 in /usr/local/lib/python3.9/dist-packages (from requests>=2.20->openai) (1.26.15)\n",
            "Collecting frozenlist>=1.1.1\n",
            "  Downloading frozenlist-1.3.3-cp39-cp39-manylinux_2_5_x86_64.manylinux1_x86_64.manylinux_2_17_x86_64.manylinux2014_x86_64.whl (158 kB)\n",
            "\u001b[2K     \u001b[90m━━━━━━━━━━━━━━━━━━━━━━━━━━━━━━━━━━━━━━━\u001b[0m \u001b[32m158.8/158.8 KB\u001b[0m \u001b[31m9.2 MB/s\u001b[0m eta \u001b[36m0:00:00\u001b[0m\n",
            "\u001b[?25hCollecting async-timeout<5.0,>=4.0.0a3\n",
            "  Downloading async_timeout-4.0.2-py3-none-any.whl (5.8 kB)\n",
            "Collecting multidict<7.0,>=4.5\n",
            "  Downloading multidict-6.0.4-cp39-cp39-manylinux_2_17_x86_64.manylinux2014_x86_64.whl (114 kB)\n",
            "\u001b[2K     \u001b[90m━━━━━━━━━━━━━━━━━━━━━━━━━━━━━━━━━━━━━━━\u001b[0m \u001b[32m114.2/114.2 KB\u001b[0m \u001b[31m1.7 MB/s\u001b[0m eta \u001b[36m0:00:00\u001b[0m\n",
            "\u001b[?25hRequirement already satisfied: attrs>=17.3.0 in /usr/local/lib/python3.9/dist-packages (from aiohttp->openai) (22.2.0)\n",
            "Collecting yarl<2.0,>=1.0\n",
            "  Downloading yarl-1.8.2-cp39-cp39-manylinux_2_17_x86_64.manylinux2014_x86_64.whl (264 kB)\n",
            "\u001b[2K     \u001b[90m━━━━━━━━━━━━━━━━━━━━━━━━━━━━━━━━━━━━━━━\u001b[0m \u001b[32m264.6/264.6 KB\u001b[0m \u001b[31m9.8 MB/s\u001b[0m eta \u001b[36m0:00:00\u001b[0m\n",
            "\u001b[?25hCollecting aiosignal>=1.1.2\n",
            "  Downloading aiosignal-1.3.1-py3-none-any.whl (7.6 kB)\n",
            "Installing collected packages: multidict, frozenlist, async-timeout, yarl, aiosignal, aiohttp, openai\n",
            "Successfully installed aiohttp-3.8.4 aiosignal-1.3.1 async-timeout-4.0.2 frozenlist-1.3.3 multidict-6.0.4 openai-0.27.2 yarl-1.8.2\n"
          ]
        }
      ],
      "source": [
        "#Importing openai\n",
        "try:\n",
        "  import openai\n",
        "except:\n",
        "  !pip install openai\n",
        "  import openai"
      ]
    },
    {
      "cell_type": "markdown",
      "source": [
        "###Your API Key"
      ],
      "metadata": {
        "id": "R7YHxHaLmAEi"
      }
    },
    {
      "cell_type": "code",
      "source": [
        "#2.API Key\n",
        "#Store you key in a file and read it(you can type it directly in the notebook but it will be visible for somebody next to you)\n",
        "from google.colab import drive\n",
        "drive.mount('/content/drive')\n",
        "f = open(\"drive/MyDrive/files/api_key.txt\", \"r\")\n",
        "API_KEY=f.readline()\n",
        "f.close()\n",
        "\n",
        "#The OpenAI Key\n",
        "import os\n",
        "os.environ['OPENAI_API_KEY'] =API_KEY\n",
        "openai.api_key = os.getenv(\"OPENAI_API_KEY\")"
      ],
      "metadata": {
        "colab": {
          "base_uri": "https://localhost:8080/"
        },
        "id": "Eb6gFplQqU5v",
        "outputId": "540ec202-06c7-4513-960c-5f755f97f895"
      },
      "execution_count": 2,
      "outputs": [
        {
          "output_type": "stream",
          "name": "stdout",
          "text": [
            "Mounted at /content/drive\n"
          ]
        }
      ]
    },
    {
      "cell_type": "markdown",
      "source": [
        "# 1.Building the Knowledge base(KB)\n",
        "\n",
        "You can build the knowledge base, KB, in any format you want: SQL Server, other databases, JSON files, CSV, etc.\n",
        "\n",
        "In this notebook, I'll use \"Rothman Consulting\" as an example. You can use the information you gather for your project and create a corporate or personal KB.\n",
        "\n",
        "\n",
        "This step is a classical method to create data. When we build websites, for example, we enter metadata and keywords to increase our visibility and help the search engines. The same goes for our transformer conversational models.\n",
        "\n",
        "Note: you can create as many assertions you wish in your KB. The only cost will be the space occupied by your data and the maintenance of your dataset. \n"
      ],
      "metadata": {
        "id": "NL3WXe4Zag33"
      }
    },
    {
      "cell_type": "code",
      "source": [
        "assert1={'role': 'assistant', 'content': 'Opening hours of Rothman Consulting :Monday through Friday 9am to 5pm. Services :expert systems, rule-based systems, machine learning, deep learning, transformer models.'}\n",
        "assert2={'role': 'assistant', 'content': 'Services :expert systems, rule-based systems, machine learning, deep learning, transformer models.'}\n",
        "assert3={'role': 'assistant', 'content': 'Services :Fine-tuning OpenAI GPT-3 models, designing datasets, designing knowledge bases.'}\n",
        "assertn={'role': 'assistant', 'content': 'Services:advanced prompt engineering using a knowledge base and SEO keyword methods.'}\n",
        "\n",
        "#Using the knowledge base as a dataset:\n",
        "kbt = []\n",
        "kbt.append(assert1)\n",
        "kbt.append(assert2)\n",
        "kbt.append(assert3)\n",
        "kbt.append(assertn)"
      ],
      "metadata": {
        "id": "PTo5ekDFbqz4"
      },
      "execution_count": 3,
      "outputs": []
    },
    {
      "cell_type": "code",
      "source": [
        "#displaying the KB as a DataFrame(DF) Clic on the magic Google Colaboratory Wand to obtain a cool display\n",
        "import pandas as pd\n",
        "df=pd.DataFrame(kbt)\n",
        "df"
      ],
      "metadata": {
        "colab": {
          "base_uri": "https://localhost:8080/",
          "height": 174
        },
        "id": "m6Lu00kbdhBf",
        "outputId": "36c0d6fb-fdf7-4e2a-9adb-1b8fa69bc4ba"
      },
      "execution_count": 4,
      "outputs": [
        {
          "output_type": "execute_result",
          "data": {
            "text/plain": [
              "        role                                            content\n",
              "0  assistant  Opening hours of Rothman Consulting :Monday th...\n",
              "1  assistant  Services :expert systems, rule-based systems, ...\n",
              "2  assistant  Services :Fine-tuning OpenAI GPT-3 models, des...\n",
              "3  assistant  Services:advanced prompt engineering using a k..."
            ],
            "text/html": [
              "\n",
              "  <div id=\"df-eb08ab9a-e99d-4d40-b5eb-249020f11be9\">\n",
              "    <div class=\"colab-df-container\">\n",
              "      <div>\n",
              "<style scoped>\n",
              "    .dataframe tbody tr th:only-of-type {\n",
              "        vertical-align: middle;\n",
              "    }\n",
              "\n",
              "    .dataframe tbody tr th {\n",
              "        vertical-align: top;\n",
              "    }\n",
              "\n",
              "    .dataframe thead th {\n",
              "        text-align: right;\n",
              "    }\n",
              "</style>\n",
              "<table border=\"1\" class=\"dataframe\">\n",
              "  <thead>\n",
              "    <tr style=\"text-align: right;\">\n",
              "      <th></th>\n",
              "      <th>role</th>\n",
              "      <th>content</th>\n",
              "    </tr>\n",
              "  </thead>\n",
              "  <tbody>\n",
              "    <tr>\n",
              "      <th>0</th>\n",
              "      <td>assistant</td>\n",
              "      <td>Opening hours of Rothman Consulting :Monday th...</td>\n",
              "    </tr>\n",
              "    <tr>\n",
              "      <th>1</th>\n",
              "      <td>assistant</td>\n",
              "      <td>Services :expert systems, rule-based systems, ...</td>\n",
              "    </tr>\n",
              "    <tr>\n",
              "      <th>2</th>\n",
              "      <td>assistant</td>\n",
              "      <td>Services :Fine-tuning OpenAI GPT-3 models, des...</td>\n",
              "    </tr>\n",
              "    <tr>\n",
              "      <th>3</th>\n",
              "      <td>assistant</td>\n",
              "      <td>Services:advanced prompt engineering using a k...</td>\n",
              "    </tr>\n",
              "  </tbody>\n",
              "</table>\n",
              "</div>\n",
              "      <button class=\"colab-df-convert\" onclick=\"convertToInteractive('df-eb08ab9a-e99d-4d40-b5eb-249020f11be9')\"\n",
              "              title=\"Convert this dataframe to an interactive table.\"\n",
              "              style=\"display:none;\">\n",
              "        \n",
              "  <svg xmlns=\"http://www.w3.org/2000/svg\" height=\"24px\"viewBox=\"0 0 24 24\"\n",
              "       width=\"24px\">\n",
              "    <path d=\"M0 0h24v24H0V0z\" fill=\"none\"/>\n",
              "    <path d=\"M18.56 5.44l.94 2.06.94-2.06 2.06-.94-2.06-.94-.94-2.06-.94 2.06-2.06.94zm-11 1L8.5 8.5l.94-2.06 2.06-.94-2.06-.94L8.5 2.5l-.94 2.06-2.06.94zm10 10l.94 2.06.94-2.06 2.06-.94-2.06-.94-.94-2.06-.94 2.06-2.06.94z\"/><path d=\"M17.41 7.96l-1.37-1.37c-.4-.4-.92-.59-1.43-.59-.52 0-1.04.2-1.43.59L10.3 9.45l-7.72 7.72c-.78.78-.78 2.05 0 2.83L4 21.41c.39.39.9.59 1.41.59.51 0 1.02-.2 1.41-.59l7.78-7.78 2.81-2.81c.8-.78.8-2.07 0-2.86zM5.41 20L4 18.59l7.72-7.72 1.47 1.35L5.41 20z\"/>\n",
              "  </svg>\n",
              "      </button>\n",
              "      \n",
              "  <style>\n",
              "    .colab-df-container {\n",
              "      display:flex;\n",
              "      flex-wrap:wrap;\n",
              "      gap: 12px;\n",
              "    }\n",
              "\n",
              "    .colab-df-convert {\n",
              "      background-color: #E8F0FE;\n",
              "      border: none;\n",
              "      border-radius: 50%;\n",
              "      cursor: pointer;\n",
              "      display: none;\n",
              "      fill: #1967D2;\n",
              "      height: 32px;\n",
              "      padding: 0 0 0 0;\n",
              "      width: 32px;\n",
              "    }\n",
              "\n",
              "    .colab-df-convert:hover {\n",
              "      background-color: #E2EBFA;\n",
              "      box-shadow: 0px 1px 2px rgba(60, 64, 67, 0.3), 0px 1px 3px 1px rgba(60, 64, 67, 0.15);\n",
              "      fill: #174EA6;\n",
              "    }\n",
              "\n",
              "    [theme=dark] .colab-df-convert {\n",
              "      background-color: #3B4455;\n",
              "      fill: #D2E3FC;\n",
              "    }\n",
              "\n",
              "    [theme=dark] .colab-df-convert:hover {\n",
              "      background-color: #434B5C;\n",
              "      box-shadow: 0px 1px 3px 1px rgba(0, 0, 0, 0.15);\n",
              "      filter: drop-shadow(0px 1px 2px rgba(0, 0, 0, 0.3));\n",
              "      fill: #FFFFFF;\n",
              "    }\n",
              "  </style>\n",
              "\n",
              "      <script>\n",
              "        const buttonEl =\n",
              "          document.querySelector('#df-eb08ab9a-e99d-4d40-b5eb-249020f11be9 button.colab-df-convert');\n",
              "        buttonEl.style.display =\n",
              "          google.colab.kernel.accessAllowed ? 'block' : 'none';\n",
              "\n",
              "        async function convertToInteractive(key) {\n",
              "          const element = document.querySelector('#df-eb08ab9a-e99d-4d40-b5eb-249020f11be9');\n",
              "          const dataTable =\n",
              "            await google.colab.kernel.invokeFunction('convertToInteractive',\n",
              "                                                     [key], {});\n",
              "          if (!dataTable) return;\n",
              "\n",
              "          const docLinkHtml = 'Like what you see? Visit the ' +\n",
              "            '<a target=\"_blank\" href=https://colab.research.google.com/notebooks/data_table.ipynb>data table notebook</a>'\n",
              "            + ' to learn more about interactive tables.';\n",
              "          element.innerHTML = '';\n",
              "          dataTable['output_type'] = 'display_data';\n",
              "          await google.colab.output.renderOutput(dataTable, element);\n",
              "          const docLink = document.createElement('div');\n",
              "          docLink.innerHTML = docLinkHtml;\n",
              "          element.appendChild(docLink);\n",
              "        }\n",
              "      </script>\n",
              "    </div>\n",
              "  </div>\n",
              "  "
            ]
          },
          "metadata": {},
          "execution_count": 4
        }
      ]
    },
    {
      "cell_type": "markdown",
      "source": [
        "Let's add some metadata keywords for each record of the knowledge base"
      ],
      "metadata": {
        "id": "Rn9DhmWWjPHv"
      }
    },
    {
      "cell_type": "code",
      "source": [
        "assertkw1=\"open\"\n",
        "assertkw2=\"expert\"\n",
        "assertkw3=\"services\"\n",
        "assertkwn=\"prompt\""
      ],
      "metadata": {
        "id": "ncAXVikKjV-g"
      },
      "execution_count": 5,
      "outputs": []
    },
    {
      "cell_type": "code",
      "source": [
        "#create a kb keywords as list\n",
        "kbkw=[assertkw1,assertkw2,assertkw3,assertkwn]\n",
        "#displaying the KB as a DataFrame(DF) Clic on the magic Google Colaboratory Wand to obtain a cool display\n",
        "dfk=pd.DataFrame(kbkw)\n",
        "dfk"
      ],
      "metadata": {
        "colab": {
          "base_uri": "https://localhost:8080/",
          "height": 174
        },
        "id": "mmRtAQc3jNxX",
        "outputId": "e2b1a6cc-6e70-41e9-e3f0-07ebbde207f1"
      },
      "execution_count": 6,
      "outputs": [
        {
          "output_type": "execute_result",
          "data": {
            "text/plain": [
              "          0\n",
              "0      open\n",
              "1    expert\n",
              "2  services\n",
              "3    prompt"
            ],
            "text/html": [
              "\n",
              "  <div id=\"df-06516d54-fbca-4659-9f89-db1da3bb2ddf\">\n",
              "    <div class=\"colab-df-container\">\n",
              "      <div>\n",
              "<style scoped>\n",
              "    .dataframe tbody tr th:only-of-type {\n",
              "        vertical-align: middle;\n",
              "    }\n",
              "\n",
              "    .dataframe tbody tr th {\n",
              "        vertical-align: top;\n",
              "    }\n",
              "\n",
              "    .dataframe thead th {\n",
              "        text-align: right;\n",
              "    }\n",
              "</style>\n",
              "<table border=\"1\" class=\"dataframe\">\n",
              "  <thead>\n",
              "    <tr style=\"text-align: right;\">\n",
              "      <th></th>\n",
              "      <th>0</th>\n",
              "    </tr>\n",
              "  </thead>\n",
              "  <tbody>\n",
              "    <tr>\n",
              "      <th>0</th>\n",
              "      <td>open</td>\n",
              "    </tr>\n",
              "    <tr>\n",
              "      <th>1</th>\n",
              "      <td>expert</td>\n",
              "    </tr>\n",
              "    <tr>\n",
              "      <th>2</th>\n",
              "      <td>services</td>\n",
              "    </tr>\n",
              "    <tr>\n",
              "      <th>3</th>\n",
              "      <td>prompt</td>\n",
              "    </tr>\n",
              "  </tbody>\n",
              "</table>\n",
              "</div>\n",
              "      <button class=\"colab-df-convert\" onclick=\"convertToInteractive('df-06516d54-fbca-4659-9f89-db1da3bb2ddf')\"\n",
              "              title=\"Convert this dataframe to an interactive table.\"\n",
              "              style=\"display:none;\">\n",
              "        \n",
              "  <svg xmlns=\"http://www.w3.org/2000/svg\" height=\"24px\"viewBox=\"0 0 24 24\"\n",
              "       width=\"24px\">\n",
              "    <path d=\"M0 0h24v24H0V0z\" fill=\"none\"/>\n",
              "    <path d=\"M18.56 5.44l.94 2.06.94-2.06 2.06-.94-2.06-.94-.94-2.06-.94 2.06-2.06.94zm-11 1L8.5 8.5l.94-2.06 2.06-.94-2.06-.94L8.5 2.5l-.94 2.06-2.06.94zm10 10l.94 2.06.94-2.06 2.06-.94-2.06-.94-.94-2.06-.94 2.06-2.06.94z\"/><path d=\"M17.41 7.96l-1.37-1.37c-.4-.4-.92-.59-1.43-.59-.52 0-1.04.2-1.43.59L10.3 9.45l-7.72 7.72c-.78.78-.78 2.05 0 2.83L4 21.41c.39.39.9.59 1.41.59.51 0 1.02-.2 1.41-.59l7.78-7.78 2.81-2.81c.8-.78.8-2.07 0-2.86zM5.41 20L4 18.59l7.72-7.72 1.47 1.35L5.41 20z\"/>\n",
              "  </svg>\n",
              "      </button>\n",
              "      \n",
              "  <style>\n",
              "    .colab-df-container {\n",
              "      display:flex;\n",
              "      flex-wrap:wrap;\n",
              "      gap: 12px;\n",
              "    }\n",
              "\n",
              "    .colab-df-convert {\n",
              "      background-color: #E8F0FE;\n",
              "      border: none;\n",
              "      border-radius: 50%;\n",
              "      cursor: pointer;\n",
              "      display: none;\n",
              "      fill: #1967D2;\n",
              "      height: 32px;\n",
              "      padding: 0 0 0 0;\n",
              "      width: 32px;\n",
              "    }\n",
              "\n",
              "    .colab-df-convert:hover {\n",
              "      background-color: #E2EBFA;\n",
              "      box-shadow: 0px 1px 2px rgba(60, 64, 67, 0.3), 0px 1px 3px 1px rgba(60, 64, 67, 0.15);\n",
              "      fill: #174EA6;\n",
              "    }\n",
              "\n",
              "    [theme=dark] .colab-df-convert {\n",
              "      background-color: #3B4455;\n",
              "      fill: #D2E3FC;\n",
              "    }\n",
              "\n",
              "    [theme=dark] .colab-df-convert:hover {\n",
              "      background-color: #434B5C;\n",
              "      box-shadow: 0px 1px 3px 1px rgba(0, 0, 0, 0.15);\n",
              "      filter: drop-shadow(0px 1px 2px rgba(0, 0, 0, 0.3));\n",
              "      fill: #FFFFFF;\n",
              "    }\n",
              "  </style>\n",
              "\n",
              "      <script>\n",
              "        const buttonEl =\n",
              "          document.querySelector('#df-06516d54-fbca-4659-9f89-db1da3bb2ddf button.colab-df-convert');\n",
              "        buttonEl.style.display =\n",
              "          google.colab.kernel.accessAllowed ? 'block' : 'none';\n",
              "\n",
              "        async function convertToInteractive(key) {\n",
              "          const element = document.querySelector('#df-06516d54-fbca-4659-9f89-db1da3bb2ddf');\n",
              "          const dataTable =\n",
              "            await google.colab.kernel.invokeFunction('convertToInteractive',\n",
              "                                                     [key], {});\n",
              "          if (!dataTable) return;\n",
              "\n",
              "          const docLinkHtml = 'Like what you see? Visit the ' +\n",
              "            '<a target=\"_blank\" href=https://colab.research.google.com/notebooks/data_table.ipynb>data table notebook</a>'\n",
              "            + ' to learn more about interactive tables.';\n",
              "          element.innerHTML = '';\n",
              "          dataTable['output_type'] = 'display_data';\n",
              "          await google.colab.output.renderOutput(dataTable, element);\n",
              "          const docLink = document.createElement('div');\n",
              "          docLink.innerHTML = docLinkHtml;\n",
              "          element.appendChild(docLink);\n",
              "        }\n",
              "      </script>\n",
              "    </div>\n",
              "  </div>\n",
              "  "
            ]
          },
          "metadata": {},
          "execution_count": 6
        }
      ]
    },
    {
      "cell_type": "code",
      "source": [
        "user_requests=[]\n",
        "user_requests.append({'role': 'user', 'content': 'At what time does Rothman Consulting open on Monday?'})\n",
        "user_requests.append({'role': 'user', 'content': 'At what time does Rothman Consulting open on Saturday?'})\n",
        "user_requests.append({'role': 'user', 'content': 'Can you create an AI-driven expert system?'})\n",
        "user_requests.append({'role': 'user', 'content': 'What services does Rothman Consulting offer?'})"
      ],
      "metadata": {
        "id": "F7SQqToPsvVj"
      },
      "execution_count": 7,
      "outputs": []
    },
    {
      "cell_type": "code",
      "source": [
        "n=len(user_requests)"
      ],
      "metadata": {
        "id": "MrJcfKtgep_3"
      },
      "execution_count": 8,
      "outputs": []
    },
    {
      "cell_type": "markdown",
      "source": [
        "#2.Parsing the user's prompt and accessing the KB\n",
        "\n",
        "There is a lot of work to do to create an efficient knowledge base, metadata, and a solid parsing function.\n",
        "\n",
        "The example below parses the user's prompt on the dialog page of an application:<br>\n",
        "\n",
        "1. Go through the list of keywords. Each keyword is the label of a record in the knowledge base (KB). You can extend the metadata (keywords) to as many keywords as necessary. You can also add other metadata as for web pages and parse them as well using search engine techniques.\n",
        "\n",
        "2.When a keyword, the label of a KB record,  matches the user's request, the KB record is retrieved and returned to be part of the information sent to ChatGPT.\n",
        "\n",
        "Note: You can improve this functin as you wish to customize your application.\n",
        "A chatbot application can includes classical search functions.\n",
        "\n",
        "Also, you can explore the new Bing conversational interface. You will note that it extracts keywords as in this notebook, then it searches for links in its knowledge base. Finally, it generates AI using the KB record(s). \n",
        "\n",
        "In this notebook, we added a moderation function (section 5, Moderation, quality control). Note that both the new Bing and OpenAI conversational bots contain a moderation function as well.\n",
        "\n",
        "\n",
        "\n",
        "\n",
        "\n",
        "\n"
      ],
      "metadata": {
        "id": "Y-crABM8l3Xi"
      }
    },
    {
      "cell_type": "code",
      "source": [
        "# This is an example. You can customize this as you wish for your project\n",
        "def parse_user(uprompt,kbkw,kbt):\n",
        "  i=0\n",
        "  j=0\n",
        "  for kw in kbkw:\n",
        "    #print(i,kw)\n",
        "    rq=str(uprompt)\n",
        "    k=str(kw)\n",
        "    fi=rq.find(k)\n",
        "    if fi>-1:\n",
        "      print(kw,rq,kbt[i])\n",
        "      j=i\n",
        "    i+=1\n",
        "  return kbt[j]"
      ],
      "metadata": {
        "id": "1SBEyM6Jf5y4"
      },
      "execution_count": 9,
      "outputs": []
    },
    {
      "cell_type": "markdown",
      "source": [
        "\n",
        "#3..Generating ChatGPT content with a dialog function\n",
        "\n",
        "Generating content with a function that fits the user's request using OpenAI ChatGPT through the gpt-3.5 turbo model.\n",
        "\n",
        "This function will receive an automated prompt. \n",
        "\n",
        "For more on an explicit call see an [implementation of ChatGPT in the Bonus directory.](https://github.com/fenago/nlp-transformers/blob/main/Bonus/Jump_Starting_ChatGPT_with_the_OpenAI_API.ipynb)"
      ],
      "metadata": {
        "id": "3MMY2NbPQwVE"
      }
    },
    {
      "cell_type": "code",
      "source": [
        "#convmodel=\"gpt-3.5-turbo\"\n",
        "convmodel=\"gpt-4\"\n",
        "def dialog(iprompt):\n",
        "    response = openai.ChatCompletion.create(\n",
        "        model=convmodel,\n",
        "        messages=iprompt\n",
        "    )\n",
        "    return response\n",
        "\n"
      ],
      "metadata": {
        "id": "tmQRXYiX4tC3"
      },
      "execution_count": 10,
      "outputs": []
    },
    {
      "cell_type": "markdown",
      "source": [
        "## Implementing ChatGPT with a simplified search engine approach\n",
        "\n",
        "The following cell contains 6 steps: <br>\n",
        "\n",
        "Step 1: iterating through the user's requests   <br>\n",
        "Step 2: the application goes through a the user's request and searches for keywords with a search-engine-like technique<br>\n",
        "Step 3: the application creates a prompt, with a system message, the knowledge base record found and the initial user's request <br>\n",
        "Step 4: The prompt is sent to the ChatGPT dialog function<br>\n",
        "Step 5: storing the response in a list<br>\n",
        "Step 6; displaying the KB as a DataFrame(DF);click on the magic Google Colaboratory Wand to obtain a cool display\n"
      ],
      "metadata": {
        "id": "h8GGZPNHBu3O"
      }
    },
    {
      "cell_type": "code",
      "source": [
        "responses=[]      #creating a list to store the dialog\n",
        "\n",
        "#going through the user's requests in a batch for the ChatGPT simulation\n",
        "for i in range(n):\n",
        "  # Step 1: iterating through the user's requests\n",
        "  user_request_num=i   \n",
        "     \n",
        "  #Step 2: the application goes through a the user's request and searches for keywords with a search-engine-like technique\n",
        "  #        to find a record in the knowledge base\n",
        "  kb_record=parse_user(user_requests[user_request_num],kbkw,kbt)\n",
        "  \n",
        "  #Step 3: the application creates a prompt, with a system message, the knowledge base record found and the initial user's request\n",
        "  iprompt = []\n",
        "  iprompt.append({\"role\": \"system\", \"content\": \"You are an assistant for Rothman Consulting.\"})\n",
        "  iprompt.append(kb_record)\n",
        "  iprompt.append(user_requests[user_request_num])\n",
        "  \n",
        "  #print(iprompt)\n",
        "\n",
        "  #Step 4: The prompt is sent to the ChatGPT dialog function\n",
        "  response = dialog(iprompt)\n",
        "\n",
        "  #Step 5: storing the response in a list\n",
        "  ex=response[\"choices\"][0][\"message\"][\"content\"]\n",
        "  rt=\"Total Tokens:\" + str(response[\"usage\"][\"total_tokens\"])\n",
        "  responses.append([user_requests[user_request_num],ex,rt])\n",
        "  \n",
        "#Step 6; displaying the KB as a DataFrame(DF);click on the magic Google Colaboratory Wand to obtain a cool display\n",
        "pd.DataFrame(responses, columns=['request', 'response', 'tokens'])"
      ],
      "metadata": {
        "id": "ycvlAs9a4vPl",
        "colab": {
          "base_uri": "https://localhost:8080/",
          "height": 267
        },
        "outputId": "5879dff3-7c73-4020-c211-b6c51400554e"
      },
      "execution_count": 11,
      "outputs": [
        {
          "output_type": "stream",
          "name": "stdout",
          "text": [
            "open {'role': 'user', 'content': 'At what time does Rothman Consulting open on Monday?'} {'role': 'assistant', 'content': 'Opening hours of Rothman Consulting :Monday through Friday 9am to 5pm. Services :expert systems, rule-based systems, machine learning, deep learning, transformer models.'}\n",
            "open {'role': 'user', 'content': 'At what time does Rothman Consulting open on Saturday?'} {'role': 'assistant', 'content': 'Opening hours of Rothman Consulting :Monday through Friday 9am to 5pm. Services :expert systems, rule-based systems, machine learning, deep learning, transformer models.'}\n",
            "expert {'role': 'user', 'content': 'Can you create an AI-driven expert system?'} {'role': 'assistant', 'content': 'Services :expert systems, rule-based systems, machine learning, deep learning, transformer models.'}\n",
            "services {'role': 'user', 'content': 'What services does Rothman Consulting offer?'} {'role': 'assistant', 'content': 'Services :Fine-tuning OpenAI GPT-3 models, designing datasets, designing knowledge bases.'}\n"
          ]
        },
        {
          "output_type": "execute_result",
          "data": {
            "text/plain": [
              "                                             request  \\\n",
              "0  {'role': 'user', 'content': 'At what time does...   \n",
              "1  {'role': 'user', 'content': 'At what time does...   \n",
              "2  {'role': 'user', 'content': 'Can you create an...   \n",
              "3  {'role': 'user', 'content': 'What services doe...   \n",
              "\n",
              "                                            response            tokens  \n",
              "0         Rothman Consulting opens at 9am on Monday.   Total Tokens:83  \n",
              "1  Rothman Consulting is not open on Saturdays. T...   Total Tokens:97  \n",
              "2  As an AI language model, I can help design and...  Total Tokens:415  \n",
              "3  Rothman Consulting offers a wide range of serv...  Total Tokens:336  "
            ],
            "text/html": [
              "\n",
              "  <div id=\"df-9865b2ff-bf47-4212-8855-2cd1a6cf3e50\">\n",
              "    <div class=\"colab-df-container\">\n",
              "      <div>\n",
              "<style scoped>\n",
              "    .dataframe tbody tr th:only-of-type {\n",
              "        vertical-align: middle;\n",
              "    }\n",
              "\n",
              "    .dataframe tbody tr th {\n",
              "        vertical-align: top;\n",
              "    }\n",
              "\n",
              "    .dataframe thead th {\n",
              "        text-align: right;\n",
              "    }\n",
              "</style>\n",
              "<table border=\"1\" class=\"dataframe\">\n",
              "  <thead>\n",
              "    <tr style=\"text-align: right;\">\n",
              "      <th></th>\n",
              "      <th>request</th>\n",
              "      <th>response</th>\n",
              "      <th>tokens</th>\n",
              "    </tr>\n",
              "  </thead>\n",
              "  <tbody>\n",
              "    <tr>\n",
              "      <th>0</th>\n",
              "      <td>{'role': 'user', 'content': 'At what time does...</td>\n",
              "      <td>Rothman Consulting opens at 9am on Monday.</td>\n",
              "      <td>Total Tokens:83</td>\n",
              "    </tr>\n",
              "    <tr>\n",
              "      <th>1</th>\n",
              "      <td>{'role': 'user', 'content': 'At what time does...</td>\n",
              "      <td>Rothman Consulting is not open on Saturdays. T...</td>\n",
              "      <td>Total Tokens:97</td>\n",
              "    </tr>\n",
              "    <tr>\n",
              "      <th>2</th>\n",
              "      <td>{'role': 'user', 'content': 'Can you create an...</td>\n",
              "      <td>As an AI language model, I can help design and...</td>\n",
              "      <td>Total Tokens:415</td>\n",
              "    </tr>\n",
              "    <tr>\n",
              "      <th>3</th>\n",
              "      <td>{'role': 'user', 'content': 'What services doe...</td>\n",
              "      <td>Rothman Consulting offers a wide range of serv...</td>\n",
              "      <td>Total Tokens:336</td>\n",
              "    </tr>\n",
              "  </tbody>\n",
              "</table>\n",
              "</div>\n",
              "      <button class=\"colab-df-convert\" onclick=\"convertToInteractive('df-9865b2ff-bf47-4212-8855-2cd1a6cf3e50')\"\n",
              "              title=\"Convert this dataframe to an interactive table.\"\n",
              "              style=\"display:none;\">\n",
              "        \n",
              "  <svg xmlns=\"http://www.w3.org/2000/svg\" height=\"24px\"viewBox=\"0 0 24 24\"\n",
              "       width=\"24px\">\n",
              "    <path d=\"M0 0h24v24H0V0z\" fill=\"none\"/>\n",
              "    <path d=\"M18.56 5.44l.94 2.06.94-2.06 2.06-.94-2.06-.94-.94-2.06-.94 2.06-2.06.94zm-11 1L8.5 8.5l.94-2.06 2.06-.94-2.06-.94L8.5 2.5l-.94 2.06-2.06.94zm10 10l.94 2.06.94-2.06 2.06-.94-2.06-.94-.94-2.06-.94 2.06-2.06.94z\"/><path d=\"M17.41 7.96l-1.37-1.37c-.4-.4-.92-.59-1.43-.59-.52 0-1.04.2-1.43.59L10.3 9.45l-7.72 7.72c-.78.78-.78 2.05 0 2.83L4 21.41c.39.39.9.59 1.41.59.51 0 1.02-.2 1.41-.59l7.78-7.78 2.81-2.81c.8-.78.8-2.07 0-2.86zM5.41 20L4 18.59l7.72-7.72 1.47 1.35L5.41 20z\"/>\n",
              "  </svg>\n",
              "      </button>\n",
              "      \n",
              "  <style>\n",
              "    .colab-df-container {\n",
              "      display:flex;\n",
              "      flex-wrap:wrap;\n",
              "      gap: 12px;\n",
              "    }\n",
              "\n",
              "    .colab-df-convert {\n",
              "      background-color: #E8F0FE;\n",
              "      border: none;\n",
              "      border-radius: 50%;\n",
              "      cursor: pointer;\n",
              "      display: none;\n",
              "      fill: #1967D2;\n",
              "      height: 32px;\n",
              "      padding: 0 0 0 0;\n",
              "      width: 32px;\n",
              "    }\n",
              "\n",
              "    .colab-df-convert:hover {\n",
              "      background-color: #E2EBFA;\n",
              "      box-shadow: 0px 1px 2px rgba(60, 64, 67, 0.3), 0px 1px 3px 1px rgba(60, 64, 67, 0.15);\n",
              "      fill: #174EA6;\n",
              "    }\n",
              "\n",
              "    [theme=dark] .colab-df-convert {\n",
              "      background-color: #3B4455;\n",
              "      fill: #D2E3FC;\n",
              "    }\n",
              "\n",
              "    [theme=dark] .colab-df-convert:hover {\n",
              "      background-color: #434B5C;\n",
              "      box-shadow: 0px 1px 3px 1px rgba(0, 0, 0, 0.15);\n",
              "      filter: drop-shadow(0px 1px 2px rgba(0, 0, 0, 0.3));\n",
              "      fill: #FFFFFF;\n",
              "    }\n",
              "  </style>\n",
              "\n",
              "      <script>\n",
              "        const buttonEl =\n",
              "          document.querySelector('#df-9865b2ff-bf47-4212-8855-2cd1a6cf3e50 button.colab-df-convert');\n",
              "        buttonEl.style.display =\n",
              "          google.colab.kernel.accessAllowed ? 'block' : 'none';\n",
              "\n",
              "        async function convertToInteractive(key) {\n",
              "          const element = document.querySelector('#df-9865b2ff-bf47-4212-8855-2cd1a6cf3e50');\n",
              "          const dataTable =\n",
              "            await google.colab.kernel.invokeFunction('convertToInteractive',\n",
              "                                                     [key], {});\n",
              "          if (!dataTable) return;\n",
              "\n",
              "          const docLinkHtml = 'Like what you see? Visit the ' +\n",
              "            '<a target=\"_blank\" href=https://colab.research.google.com/notebooks/data_table.ipynb>data table notebook</a>'\n",
              "            + ' to learn more about interactive tables.';\n",
              "          element.innerHTML = '';\n",
              "          dataTable['output_type'] = 'display_data';\n",
              "          await google.colab.output.renderOutput(dataTable, element);\n",
              "          const docLink = document.createElement('div');\n",
              "          docLink.innerHTML = docLinkHtml;\n",
              "          element.appendChild(docLink);\n",
              "        }\n",
              "      </script>\n",
              "    </div>\n",
              "  </div>\n",
              "  "
            ]
          },
          "metadata": {},
          "execution_count": 11
        }
      ]
    },
    {
      "cell_type": "markdown",
      "source": [
        "#4.Moderation, quality control\n",
        "\n",
        "OpenAI provides[ tools](https://https://openai.com/blog/new-and-improved-content-moderation-tooling) to control the input and output flow of their models.\n",
        "\n",
        "You can control the output of the implementation of ChatGPT in at least two ways: <br>\n",
        "**1.By parsing the output, searching for keywords, and then taking an action to block the output or modifying with a rule-base**<br>\n",
        "\n",
        "This is the method ChatGPT suggests:<br>\n",
        "\"Yes, it is possible to implement a moderation model in Python. Many different approaches can be used to build a moderation model, depending on the specific requirements and use case.\n",
        "\n",
        "One approach is to use machine learning algorithms to automatically detect and flag inappropriate content. This could involve training a machine learning model on a labeled dataset of inappropriate content, and using the model to classify new content as either appropriate or inappropriate. There are many libraries and frameworks available in Python for building machine learning models, such as TensorFlow, Scikit-learn, and Keras.\n",
        "\n",
        "Another approach is to use a rule-based system to detect and flag inappropriate content. This could involve defining a set of rules or criteria that content must meet in order to be considered appropriate, and then using Python to automatically check content against these rules.\n",
        "\n",
        "Ultimately, the specific approach that is used will depend on the requirements and constraints of the moderation task. However, Python provides a flexible and powerful platform for building moderation models, and there are many resources available online to help developers get started with building their own moderation models.\"\n",
        "\n",
        "**2.You can use OpenAI's [moderation model](https://https://platform.openai.com/docs/guides/moderation/overview)**<br>\n",
        "\n",
        "Bing's chatbot provides this description of OpenAI's moderation model: <br>\n",
        "\"OpenAI has a moderation model that you can use to check whether content complies with OpenAI’s usage policies1. The model classifies content into categories such as hate speech, sexual content, violence, etc. and gives a probability score for each category. You can use this endpoint to filter out inappropriate or harmful content generated by other OpenAI models.\"\n",
        "\n",
        "OpenAI states that the category of an output:\n",
        "\n",
        "![image.png](data:image/png;base64,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)"
      ],
      "metadata": {
        "id": "Z1wuCcl5Ev6_"
      }
    },
    {
      "cell_type": "markdown",
      "source": [
        "A Python example of the moderation model using one of the responses of the notebook."
      ],
      "metadata": {
        "id": "idhVeIm7g5Lu"
      }
    },
    {
      "cell_type": "code",
      "source": [
        "text = \"I apologize for the confusion in my previous message. Rothman Consulting is open only from Monday through Friday from 9 AM to 5 PM. We are closed on weekends, including Saturdays. If you have any further queries, please let us know.\"\n",
        "response = openai.Moderation.create(input=text)"
      ],
      "metadata": {
        "id": "aglJ5I-XGFQg"
      },
      "execution_count": 12,
      "outputs": []
    },
    {
      "cell_type": "markdown",
      "source": [
        "Displaying the details of the response(JSON object) "
      ],
      "metadata": {
        "id": "TqFt0sKRjlJF"
      }
    },
    {
      "cell_type": "code",
      "source": [
        "response[\"results\"][0][\"categories\"]"
      ],
      "metadata": {
        "colab": {
          "base_uri": "https://localhost:8080/"
        },
        "id": "j9nCVhDai2iT",
        "outputId": "fb72c877-793e-4ede-ba33-311dce4924f6"
      },
      "execution_count": 13,
      "outputs": [
        {
          "output_type": "execute_result",
          "data": {
            "text/plain": [
              "<OpenAIObject at 0x7f817071f4f0> JSON: {\n",
              "  \"hate\": false,\n",
              "  \"hate/threatening\": false,\n",
              "  \"self-harm\": false,\n",
              "  \"sexual\": false,\n",
              "  \"sexual/minors\": false,\n",
              "  \"violence\": false,\n",
              "  \"violence/graphic\": false\n",
              "}"
            ]
          },
          "metadata": {},
          "execution_count": 13
        }
      ]
    },
    {
      "cell_type": "code",
      "source": [
        "response[\"results\"][0][\"category_scores\"]"
      ],
      "metadata": {
        "colab": {
          "base_uri": "https://localhost:8080/"
        },
        "id": "WhzKsUrhjQ5_",
        "outputId": "6f6b17c7-3f80-4ef3-c787-7ee87fe81a40"
      },
      "execution_count": 14,
      "outputs": [
        {
          "output_type": "execute_result",
          "data": {
            "text/plain": [
              "<OpenAIObject at 0x7f81706f60e0> JSON: {\n",
              "  \"hate\": 6.704667612211779e-07,\n",
              "  \"hate/threatening\": 2.6214225234966193e-10,\n",
              "  \"self-harm\": 3.959942151965379e-09,\n",
              "  \"sexual\": 6.882449952172465e-07,\n",
              "  \"sexual/minors\": 2.4538612919400293e-08,\n",
              "  \"violence\": 1.5880637874943204e-05,\n",
              "  \"violence/graphic\": 7.89500518294517e-07\n",
              "}"
            ]
          },
          "metadata": {},
          "execution_count": 14
        }
      ]
    },
    {
      "cell_type": "markdown",
      "source": [
        "Flagged as sensitive \"True\" or \"False\""
      ],
      "metadata": {
        "id": "nfP8wh0mkSjR"
      }
    },
    {
      "cell_type": "code",
      "source": [
        "response[\"results\"][0][\"flagged\"]"
      ],
      "metadata": {
        "colab": {
          "base_uri": "https://localhost:8080/"
        },
        "id": "C5DE19UpjWy7",
        "outputId": "51f612c7-2abc-4ebc-d0ed-ee1b024e5124"
      },
      "execution_count": 15,
      "outputs": [
        {
          "output_type": "execute_result",
          "data": {
            "text/plain": [
              "False"
            ]
          },
          "metadata": {},
          "execution_count": 15
        }
      ]
    },
    {
      "cell_type": "markdown",
      "source": [
        "#5.Summary and next steps\n",
        "\n",
        "We saw how:\n",
        "* advanced prompt engineering can be an efficient solution to customize ChatGPT\n",
        "* to build a knowledge base that you can improve through prompt engineering \n",
        "* to run ChatGPT with advanced prompt engineering\n",
        "* to use OpenAI's moderation model to monitor the output of ChatGPT, any OpenAI model, or any text\n",
        "\n",
        "Next steps:\n",
        "\n",
        "* automate the whole process of this notebook in a pipeline\n",
        "* build an application\n",
        "* once the knowledge base is reliable, you can use it to [fine-tune](https://github.com/fenago/nlp-transformers/blob/main/Lab07/Fine_tuning_GPT_3.ipynb) an OpenAI transformer model\n"
      ],
      "metadata": {
        "id": "bJ_hCITHXgUG"
      }
    }
  ]
}