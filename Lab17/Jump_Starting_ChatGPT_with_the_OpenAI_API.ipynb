{
  "cells": [
    {
      "cell_type": "markdown",
      "metadata": {
        "id": "b_QjF04i9neT"
      },
      "source": [
        "#Jump Starting ChatGPT with the OpenAI API\n",
        "Copyright 2023 Denis Rothman, MIT License\n",
        "\n",
        "This notebook shows how to jump start ChatGPT with the OpenAI API.\n",
        "ChatGPT generates content using gpt-3.5-turbo, OpenAI's most advanced LLM in 3 simple steps!\n",
        "\n",
        "1.Installing openai <br>\n",
        "2.Your API Key <br>\n",
        "3.Generate content\n",
        "\n",
        "[For more implementation information, consult OpenAI's documenation](https://platform.openai.com/docs/guides/chat/introduction?utm_medium=email&_hsmi=248356722&_hsenc=p2ANqtz-9YGWPwTl79cJJ0y3bEA4gcG4c9lPcArqQsVHcSuQC6EoBbfvlW4VERIKUPq_ezlS7quVYCDktyewReWXnuQZsmngEQAJjmfYYgp35fgRJLlXspYIE&utm_content=248356722&utm_source=hs_email)\n",
        "\n",
        "[To understand GPT-3 Transformers in detail, read Transformers for NLP, 2nd Edition](https://www.amazon.com/Transformers-Natural-Language-Processing-architectures/dp/1803247339/ref=tmm_pap_swatch_0?_encoding=UTF8&qid=&sr=)\n"
      ]
    },
    {
      "cell_type": "markdown",
      "metadata": {
        "id": "Y-crABM8l3Xi"
      },
      "source": [
        "#1.Installing openai\n"
      ]
    },
    {
      "cell_type": "code",
      "execution_count": 46,
      "metadata": {
        "id": "9G79pIy_Mg5Y"
      },
      "outputs": [],
      "source": [
        "#Importing openai\n",
        "try:\n",
        "  import openai\n",
        "except:\n",
        "  !pip install openai\n",
        "  import openai"
      ]
    },
    {
      "cell_type": "markdown",
      "metadata": {
        "id": "R7YHxHaLmAEi"
      },
      "source": [
        "##API Key"
      ]
    },
    {
      "cell_type": "code",
      "execution_count": 47,
      "metadata": {
        "colab": {
          "base_uri": "https://localhost:8080/"
        },
        "id": "Eb6gFplQqU5v",
        "outputId": "185b7ca7-5046-4549-c3b6-730a0116698d"
      },
      "outputs": [
        {
          "name": "stdout",
          "output_type": "stream",
          "text": [
            "Drive already mounted at /content/drive; to attempt to forcibly remount, call drive.mount(\"/content/drive\", force_remount=True).\n"
          ]
        }
      ],
      "source": [
        "#API Key\n",
        "#Store you key in a file and read it(you can type it directly in the notebook but it will be visible for somebody next to you)\n",
        "from google.colab import drive\n",
        "drive.mount('/content/drive')\n",
        "f = open(\"drive/MyDrive/files/api_key.txt\", \"r\")\n",
        "API_KEY=f.readline()\n",
        "f.close()\n",
        "\n",
        "#The OpenAI Key\n",
        "import os\n",
        "os.environ['OPENAI_API_KEY'] =API_KEY\n",
        "openai.api_key = os.getenv(\"OPENAI_API_KEY\")"
      ]
    },
    {
      "cell_type": "markdown",
      "metadata": {
        "id": "U03EQHLtmZLl"
      },
      "source": [
        "#3.Generating content"
      ]
    },
    {
      "cell_type": "code",
      "execution_count": 48,
      "metadata": {
        "id": "9JD_yk1juQ2r"
      },
      "outputs": [],
      "source": [
        "response=openai.ChatCompletion.create(\n",
        "  model=\"gpt-3.5-turbo\",\n",
        "  messages=[\n",
        "            {\"role\": \"system\", \"content\": \"You are a helpful assistant.\"}, #setting the behaviour of the assistant\n",
        "            {\"role\": \"user\", \"content\": \"What web services do you offer?\"},#user or developer instruction\n",
        "            {\"role\": \"assistant\", \"content\": \"We provide web designers, developers and web templates.\"}, #assistant stores prior messages you can insert\n",
        "            {\"role\": \"user\", \"content\": \"Do you have a starter package?\"}]) #user follow-up question or suggestion by the developer"
      ]
    },
    {
      "cell_type": "code",
      "execution_count": 49,
      "metadata": {
        "colab": {
          "base_uri": "https://localhost:8080/"
        },
        "id": "UrWlHMpnAFya",
        "outputId": "128e5008-bc42-4262-8f80-7289e8815f1b"
      },
      "outputs": [
        {
          "data": {
            "text/plain": [
              "<OpenAIObject chat.completion id=chatcmpl-6pO66dwZxO5lwtRNJhJaFeWwo1pAR at 0x7fa9ee4cfb80> JSON: {\n",
              "  \"choices\": [\n",
              "    {\n",
              "      \"finish_reason\": null,\n",
              "      \"index\": 0,\n",
              "      \"message\": {\n",
              "        \"content\": \"I'm sorry, but I'm just an AI language model and I don't provide web services directly. If you're looking for a web design and development package, there are several options available depending on your needs, budget, and preferences. Many web design and development companies offer starter packages that provide basic website features and functionalities, such as a few pages, limited design options, and basic SEO optimization. It's best to research different companies and compare their packages and prices to choose the one that meets your requirements.\",\n",
              "        \"role\": \"assistant\"\n",
              "      }\n",
              "    }\n",
              "  ],\n",
              "  \"created\": 1677705378,\n",
              "  \"id\": \"chatcmpl-6pO66dwZxO5lwtRNJhJaFeWwo1pAR\",\n",
              "  \"model\": \"gpt-3.5-turbo-0301\",\n",
              "  \"object\": \"chat.completion\",\n",
              "  \"usage\": {\n",
              "    \"completion_tokens\": 104,\n",
              "    \"prompt_tokens\": 52,\n",
              "    \"total_tokens\": 156\n",
              "  }\n",
              "}"
            ]
          },
          "execution_count": 49,
          "metadata": {},
          "output_type": "execute_result"
        }
      ],
      "source": [
        "#the complete response\n",
        "response"
      ]
    },
    {
      "cell_type": "code",
      "execution_count": 50,
      "metadata": {
        "colab": {
          "base_uri": "https://localhost:8080/",
          "height": 90
        },
        "id": "a37Y8KNr9oyO",
        "outputId": "e1265eb2-2ce1-49c2-f4c3-52461a5877cb"
      },
      "outputs": [
        {
          "data": {
            "application/vnd.google.colaboratory.intrinsic+json": {
              "type": "string"
            },
            "text/plain": [
              "\"I'm sorry, but I'm just an AI language model and I don't provide web services directly. If you're looking for a web design and development package, there are several options available depending on your needs, budget, and preferences. Many web design and development companies offer starter packages that provide basic website features and functionalities, such as a few pages, limited design options, and basic SEO optimization. It's best to research different companies and compare their packages and prices to choose the one that meets your requirements.\""
            ]
          },
          "execution_count": 50,
          "metadata": {},
          "output_type": "execute_result"
        }
      ],
      "source": [
        "#extracting the generative AI response\n",
        "response[\"choices\"][0][\"message\"][\"content\"]"
      ]
    }
  ],
  "metadata": {
    "colab": {
      "provenance": []
    },
    "kernelspec": {
      "display_name": "Python 3",
      "name": "python3"
    },
    "language_info": {
      "name": "python"
    }
  },
  "nbformat": 4,
  "nbformat_minor": 0
}
